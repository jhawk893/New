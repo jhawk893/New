{
 "cells": [
  {
   "cell_type": "markdown",
   "id": "cd9a1e7e-98a8-4e48-8103-b1107f93d406",
   "metadata": {},
   "source": [
    "# Data Science Tools and Ecosystem"
   ]
  },
  {
   "cell_type": "markdown",
   "id": "796fcd68-c405-4861-a08d-ec0d870edef6",
   "metadata": {},
   "source": [
    "In this notebook, Data Science Tools and Ecosystem are summarized."
   ]
  },
  {
   "cell_type": "markdown",
   "id": "e2060b4e-b078-4d03-b1f5-2da83b0bd672",
   "metadata": {},
   "source": [
    "__Objectives:__\n",
    "- Python\n",
    "- Java\n",
    "- SQL\n",
    "- NumPy\n",
    "- SciPy"
   ]
  },
  {
   "cell_type": "markdown",
   "id": "47f976ab-dd39-42ab-951d-676ff966714c",
   "metadata": {},
   "source": [
    "Some of the popular languages that Data Scientists use are:"
   ]
  },
  {
   "cell_type": "markdown",
   "id": "b1750c9d-94d0-497c-b371-38c864d1c3fc",
   "metadata": {},
   "source": [
    "1. Python\n",
    "2. R\n",
    "3. Java\n",
    "4. SQL"
   ]
  },
  {
   "cell_type": "markdown",
   "id": "3285a78a-3525-4325-a5ca-1e530e2453ec",
   "metadata": {},
   "source": [
    "Some of the commonly used libraries used by Data Scientists include:"
   ]
  },
  {
   "cell_type": "markdown",
   "id": "cd03b52d-e972-4558-b776-9d4962255b81",
   "metadata": {},
   "source": [
    "1. TensorFlow\n",
    "2. NumPy\n",
    "3. SciPy\n",
    "4. Pandas"
   ]
  },
  {
   "cell_type": "markdown",
   "id": "d80b57ee-65e8-40d1-bc21-445d6f12b4f8",
   "metadata": {},
   "source": [
    "| Data Science Tools |\n",
    "|----------------|\n",
    "| Apache Spark |\n",
    "| TensorFlow |\n",
    "| Hadoop |"
   ]
  },
  {
   "cell_type": "markdown",
   "id": "a697b4da-b0ae-4bd5-9e2e-d1a91224696a",
   "metadata": {},
   "source": [
    "### Below are a few examples of evaluating arithmetic expressions in Python"
   ]
  },
  {
   "cell_type": "markdown",
   "id": "780b1c0d-51af-437b-b558-5157b8943522",
   "metadata": {},
   "source": [
    "This a simple arithmetic expression to mutiply then add integers"
   ]
  },
  {
   "cell_type": "code",
   "execution_count": 4,
   "id": "61288427-ff1b-4430-8d02-7645321210ea",
   "metadata": {},
   "outputs": [
    {
     "data": {
      "text/plain": [
       "17"
      ]
     },
     "execution_count": 4,
     "metadata": {},
     "output_type": "execute_result"
    }
   ],
   "source": [
    "(3*4)+5"
   ]
  },
  {
   "cell_type": "markdown",
   "id": "a676359c-c515-4e76-9504-20d7d9462096",
   "metadata": {},
   "source": [
    "This will convert 200 minutes to hours by diving by 60"
   ]
  },
  {
   "cell_type": "code",
   "execution_count": 5,
   "id": "9f2feaa2-a9cb-431a-b273-1f1feedf3ff5",
   "metadata": {},
   "outputs": [
    {
     "data": {
      "text/plain": [
       "3.3333333333333335"
      ]
     },
     "execution_count": 5,
     "metadata": {},
     "output_type": "execute_result"
    }
   ],
   "source": [
    "(200/60)"
   ]
  },
  {
   "cell_type": "markdown",
   "id": "09ee8bbb-680d-42c5-9764-a4a311d1b0a4",
   "metadata": {},
   "source": [
    "## Author\n",
    "James Hawkins"
   ]
  },
  {
   "cell_type": "code",
   "execution_count": null,
   "id": "b69b177b-0ddb-4880-bc5e-77fc9f91b86c",
   "metadata": {},
   "outputs": [],
   "source": []
  }
 ],
 "metadata": {
  "kernelspec": {
   "display_name": "Python 3 (ipykernel)",
   "language": "python",
   "name": "python3"
  },
  "language_info": {
   "codemirror_mode": {
    "name": "ipython",
    "version": 3
   },
   "file_extension": ".py",
   "mimetype": "text/x-python",
   "name": "python",
   "nbconvert_exporter": "python",
   "pygments_lexer": "ipython3",
   "version": "3.8.17"
  }
 },
 "nbformat": 4,
 "nbformat_minor": 5
}
